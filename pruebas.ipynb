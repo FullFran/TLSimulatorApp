{
 "cells": [
  {
   "cell_type": "code",
   "execution_count": 1,
   "metadata": {},
   "outputs": [],
   "source": [
    "import pandas as pd\n",
    "import numpy as np\n"
   ]
  },
  {
   "cell_type": "code",
   "execution_count": 5,
   "metadata": {},
   "outputs": [],
   "source": [
    "def leer_datos(dfnew):\n",
    "\n",
    "    \n",
    "\n",
    "    E = dfnew.iloc[:, 0]         # Energia de Activación (eV).\n",
    "    s = dfnew.iloc[:, 1]         # Factor de Frecuencia (s-1).\n",
    "    # Concentracion de electrones atrapados en las trampas (cm-3).\n",
    "    n = dfnew.iloc[:, 2]\n",
    "    # Numero de posiciones acesibles por los electrnes de la BC a la Trampa (cm-3).\n",
    "    N = dfnew.iloc[:, 3]\n",
    "    # Coeficiente de Probabilidad de atrapamiento de electrones de a trampa (cm+3·s-1).\n",
    "    A = dfnew.iloc[:, 4]\n",
    "    # Coeficiente de probabilidad de recombinacion e-h Radiativa (cm+3·s-1).\n",
    "    Amn_R = dfnew.iloc[0:1, 5]\n",
    "    # Coeficiente de probabilidad de recombinacion e-h No Radiativa (cm+3·s-1).\n",
    "    Amn_NR = dfnew.iloc[0:1, 6]\n",
    "    # Coeficiente de Probabilidad de atrapamiento de huecos de la BV al Centro de Recombinacion Radiativo (cm+3·s-1).\n",
    "    A_R = dfnew.iloc[0:1, 7]\n",
    "    # Coeficiente de Probabilidad de atrapamiento de huecos de la BV al Centro de Recombinacion No Radiativo (cm+3·s-1).\n",
    "    A_NR = dfnew.iloc[0:1, 8]\n",
    "    # Numero de posiciones acesibles huecos de la BV al Centro de Recombinacion Radiativo (cm-3).\n",
    "    M_R = dfnew.iloc[0:1, 9]\n",
    "    # Numero de posiciones acesibles huecos de la BV al Centro de Recombinacion No Radiativo (cm-3).\n",
    "    M_NR = dfnew.iloc[0:1, 10]\n",
    "    # Concentracion de h atrapados en el centro de recombonacion radiativo (cm-3).\n",
    "    m_R = dfnew.iloc[0:1, 11]\n",
    "    # Concentracion de h atrapados en el centro de recombonacion no radiativo (cm-3).\n",
    "    m_NR = dfnew.iloc[0:1, 12]\n",
    "    f = dfnew.iloc[0:1, 13]     # Factor de generacion de pares e-h (cm-3·s-1).\n",
    "    # Concentración de electrones libres en la banda de conduccion (cm-3).\n",
    "    n_c = dfnew.iloc[0:1, 14]\n",
    "    # Concentración de huecos libres en la banda de Valencia (cm-3).\n",
    "    n_h = dfnew.iloc[0:1, 15]\n",
    "\n",
    "\n",
    "    E = E.to_numpy()\n",
    "    s = s.to_numpy()\n",
    "    n = n.to_numpy()\n",
    "    N = N.to_numpy()\n",
    "    A = A.to_numpy()\n",
    "    Amn_R = Amn_R.to_numpy()\n",
    "    Amn_NR = Amn_NR.to_numpy()\n",
    "    A_R = A_R.to_numpy()\n",
    "    A_NR = A_NR.to_numpy()\n",
    "    M_R = M_R.to_numpy()\n",
    "    M_NR = M_NR.to_numpy()\n",
    "    m_R = m_R.to_numpy()\n",
    "    m_NR = m_NR.to_numpy()\n",
    "    f = f.to_numpy()\n",
    "    n_c = n_c.to_numpy()\n",
    "    n_h = n_h.to_numpy()\n",
    "    return E,s,n,N,A,Amn_R,Amn_NR, A_R,A_NR,M_R,m_R,m_NR,f,n_c,n_h"
   ]
  },
  {
   "cell_type": "code",
   "execution_count": 6,
   "metadata": {},
   "outputs": [
    {
     "data": {
      "text/plain": [
       "(array([1.2 , 1.15]),\n",
       " array([  200000000000000, 17000000000000000], dtype=int64),\n",
       " array([0, 0], dtype=int64),\n",
       " array([10000000000, 10000000000], dtype=int64),\n",
       " array([1.e-08, 1.e-08]),\n",
       " array([1.e-08]),\n",
       " array([1.e-08]),\n",
       " array([1.e-11]),\n",
       " array([1.e-11]),\n",
       " array([1.e+09]),\n",
       " array([0.]),\n",
       " array([0.]),\n",
       " array([1000000.]),\n",
       " array([0.]),\n",
       " array([0.]))"
      ]
     },
     "execution_count": 6,
     "metadata": {},
     "output_type": "execute_result"
    }
   ],
   "source": [
    "datos=pd.read_excel('datos/antiguo/Modeladisimo2.xlsx')\n",
    "leer_datos(datos)"
   ]
  }
 ],
 "metadata": {
  "kernelspec": {
   "display_name": "TFG",
   "language": "python",
   "name": "python3"
  },
  "language_info": {
   "codemirror_mode": {
    "name": "ipython",
    "version": 3
   },
   "file_extension": ".py",
   "mimetype": "text/x-python",
   "name": "python",
   "nbconvert_exporter": "python",
   "pygments_lexer": "ipython3",
   "version": "3.9.16"
  },
  "orig_nbformat": 4
 },
 "nbformat": 4,
 "nbformat_minor": 2
}
